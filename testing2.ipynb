{
 "cells": [
  {
   "cell_type": "code",
   "execution_count": 10,
   "metadata": {},
   "outputs": [],
   "source": [
    "import plask\n",
    "import pandas as pd\n",
    "import json\n",
    "import time\n",
    "import numpy as np\n",
    "\n",
    "xlsx_path = \"test_data.xlsx\"\n",
    "xpl_path = \"tutorial3.xpl\"\n",
    "data = \"test_full_case_0.json\"\n"
   ]
  },
  {
   "cell_type": "code",
   "execution_count": 11,
   "metadata": {},
   "outputs": [],
   "source": [
    "with open(data,'r') as file:\n",
    "    results = json.loads(file.read())"
   ]
  },
  {
   "cell_type": "code",
   "execution_count": 12,
   "metadata": {},
   "outputs": [],
   "source": [
    "case_id = 0\n",
    "cases = results[case_id].pop('case_results')"
   ]
  },
  {
   "cell_type": "code",
   "execution_count": 13,
   "metadata": {},
   "outputs": [
    {
     "data": {
      "text/plain": [
       "{'id': 1.0,\n",
       " 'aperture_radius': 8.0,\n",
       " 'mesa': 32.0,\n",
       " 'n_contact_pos': 15.0,\n",
       " 'aperture_thickness': 0.016,\n",
       " 'DBR1_thickness': 0.0795,\n",
       " 'DBR2_thickness': 0.07,\n",
       " 'QW_ne': 3.621,\n",
       " 'L_boundry_T': 300.0,\n",
       " 'L_boundry_V': 1.5,\n",
       " 'n_top_dbr': 24.0,\n",
       " 'n_bottom_dbr': 30.0}"
      ]
     },
     "execution_count": 13,
     "metadata": {},
     "output_type": "execute_result"
    }
   ],
   "source": [
    "results[case_id]"
   ]
  },
  {
   "cell_type": "code",
   "execution_count": 14,
   "metadata": {},
   "outputs": [
    {
     "name": "stderr",
     "output_type": "stream",
     "text": [
      "WARNING       : <frozen runpy>:88 : Value 'id' is not defined in the XPL file\n"
     ]
    }
   ],
   "source": [
    "unformatted_dict = results[case_id]\n",
    "defs = {x : unformatted_dict[x] for x in unformatted_dict}\n",
    "defs['n_top_dbr'] = int(defs['n_top_dbr'])\n",
    "defs['n_bottom_dbr'] = int(defs['n_bottom_dbr'])\n",
    "plask.loadxpl(xpl_path,defs=defs)"
   ]
  },
  {
   "cell_type": "code",
   "execution_count": 15,
   "metadata": {},
   "outputs": [],
   "source": [
    "lam = 979\n",
    "maxlam = lam + 15\n",
    "m = 2\n",
    "v = 1.5\n",
    "vmin = v-0.3\n",
    "vmax = v+0.5"
   ]
  },
  {
   "cell_type": "code",
   "execution_count": null,
   "metadata": {},
   "outputs": [],
   "source": [
    "SOLVER.lpm = 0"
   ]
  },
  {
   "cell_type": "code",
   "execution_count": 16,
   "metadata": {},
   "outputs": [
    {
     "name": "stderr",
     "output_type": "stream",
     "text": [
      "WARNING       : <frozen runpy>:88 : Group '/ThresholdSearch' exists in HDF5 file 'c:\\Users\\PC\\Documents\\VSCode\\PythonScripts\\PLaSK_project\\ipykernel_launcher-20250115-2108.h5'. Saving to group '/ThresholdSearch-1'\n",
      "IMPORTANT     : <frozen runpy>:88 : Threshold Search Finished\n",
      "IMPORTANT     : <frozen runpy>:88 :   Temporary defines:\n",
      "IMPORTANT     : <frozen runpy>:88 :     id = 1.0\n",
      "IMPORTANT     : <frozen runpy>:88 :     aperture_radius = 8.0\n",
      "IMPORTANT     : <frozen runpy>:88 :     mesa = 32.0\n",
      "IMPORTANT     : <frozen runpy>:88 :     n_contact_pos = 15.0\n",
      "IMPORTANT     : <frozen runpy>:88 :     aperture_thickness = 0.016\n",
      "IMPORTANT     : <frozen runpy>:88 :     DBR1_thickness = 0.0795\n",
      "IMPORTANT     : <frozen runpy>:88 :     DBR2_thickness = 0.07\n",
      "IMPORTANT     : <frozen runpy>:88 :     QW_ne = 3.621\n",
      "IMPORTANT     : <frozen runpy>:88 :     L_boundry_T = 300.0\n",
      "IMPORTANT     : <frozen runpy>:88 :     L_boundry_V = 1.5\n",
      "IMPORTANT     : <frozen runpy>:88 :     n_top_dbr = 24\n",
      "IMPORTANT     : <frozen runpy>:88 :     n_bottom_dbr = 30\n",
      "IMPORTANT     : <frozen runpy>:88 :   Threshold voltage (V):            1.520\n",
      "IMPORTANT     : <frozen runpy>:88 :   Threshold current (mA):           3.300\n",
      "IMPORTANT     : <frozen runpy>:88 :   Maximum temperature (K):        304.338\n",
      "IMPORTANT     : <frozen runpy>:88 :   Maximum concentration (1/cm3):    4.543e+18\n",
      "IMPORTANT     : <frozen runpy>:88 :   Maximum gain (1/cm):           1265.429\n",
      "IMPORTANT     : <frozen runpy>:88 :   LP01 mode wavelength (nm):      977.790\n"
     ]
    },
    {
     "data": {
      "text/plain": [
       "1.5198174719100155"
      ]
     },
     "execution_count": 16,
     "metadata": {},
     "output_type": "execute_result"
    }
   ],
   "source": [
    "SOLVER.compute()"
   ]
  },
  {
   "cell_type": "code",
   "execution_count": 17,
   "metadata": {},
   "outputs": [
    {
     "data": {
      "image/png": "[encoded data removed]",
      "text/plain": [
       "<Figure size 640x480 with 1 Axes>"
      ]
     },
     "metadata": {},
     "output_type": "display_data"
    }
   ],
   "source": [
    "SOLVER.plot_optical_field_horizontal()"
   ]
  },
  {
   "cell_type": "code",
   "execution_count": null,
   "metadata": {},
   "outputs": [],
   "source": []
  }
 ],
 "metadata": {
  "kernelspec": {
   "display_name": "base",
   "language": "python",
   "name": "python3"
  },
  "language_info": {
   "codemirror_mode": {
    "name": "ipython",
    "version": 3
   },
   "file_extension": ".py",
   "mimetype": "text/x-python",
   "name": "python",
   "nbconvert_exporter": "python",
   "pygments_lexer": "ipython3",
   "version": "3.12.3"
  }
 },
 "nbformat": 4,
 "nbformat_minor": 2
}
